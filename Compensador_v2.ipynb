{
  "nbformat": 4,
  "nbformat_minor": 0,
  "metadata": {
    "colab": {
      "name": "Compensador_v2.ipynb",
      "provenance": [],
      "collapsed_sections": [],
      "include_colab_link": true
    },
    "kernelspec": {
      "display_name": "Python 3",
      "name": "python3"
    }
  },
  "cells": [
    {
      "cell_type": "markdown",
      "metadata": {
        "id": "view-in-github",
        "colab_type": "text"
      },
      "source": [
        "<a href=\"https://colab.research.google.com/github/mgstingl/c2_fiuba/blob/main/Compensador_v2.ipynb\" target=\"_parent\"><img src=\"https://colab.research.google.com/assets/colab-badge.svg\" alt=\"Open In Colab\"/></a>"
      ]
    },
    {
      "cell_type": "code",
      "metadata": {
        "id": "HjXWUCTOLjZ4"
      },
      "source": [
        "!pip install control\r\n",
        "\r\n",
        "import numpy as np\r\n",
        "import matplotlib.pyplot as plt\r\n",
        "from math import pi\r\n",
        "from control.matlab import *  # MATLAB-like functions\r\n",
        "import scipy.optimize as op\r\n",
        "from control import *"
      ],
      "execution_count": null,
      "outputs": []
    },
    {
      "cell_type": "code",
      "metadata": {
        "id": "cnE9fQjiN0Lw"
      },
      "source": [
        "s = tf(\"s\") # Defino 's' para definir las transferencias"
      ],
      "execution_count": null,
      "outputs": []
    },
    {
      "cell_type": "code",
      "metadata": {
        "colab": {
          "base_uri": "https://localhost:8080/"
        },
        "id": "IGkHdlpT5ntp",
        "outputId": "2d96cd93-f87b-48fb-ea07-d6cdf2f0a61b"
      },
      "source": [
        "vars = {\"fc_\": [10, 8, 6, 5], # Denominador de la frecuencia de crossover\r\n",
        "        \"V_in\": [12, 60],\r\n",
        "        \"V_out\": [1, 50],\r\n",
        "        \"RL\": [27, 50, 200, 500, 1000]}\r\n",
        "\r\n",
        "V_in = vars[\"V_in\"][0]\r\n",
        "\r\n",
        "\r\n",
        "a = 4*2*2*5\r\n",
        "print(a)"
      ],
      "execution_count": null,
      "outputs": [
        {
          "output_type": "stream",
          "text": [
            "80\n"
          ],
          "name": "stdout"
        }
      ]
    },
    {
      "cell_type": "code",
      "metadata": {
        "id": "k-zKKnJgQ98Z"
      },
      "source": [
        "#Frecuencia de Swiching\r\n",
        "fs = 200*10**3 # Frecuencia de la triangular del PWM\r\n",
        "Ts =  1/fs\r\n",
        "ton = Ts * 0.5\r\n",
        "Duty = ton/Ts\r\n",
        "\r\n",
        "#Frecuencia de crossover (elegida)\r\n",
        "fc = fs/6; #(1/10;1/5).fs -----------------------------------------------------"
      ],
      "execution_count": null,
      "outputs": []
    },
    {
      "cell_type": "code",
      "metadata": {
        "colab": {
          "base_uri": "https://localhost:8080/"
        },
        "id": "D2qqjmkZaeaR",
        "outputId": "4c0a57cc-3e77-42ea-df3d-b23356077186"
      },
      "source": [
        "# Linealización del Delay teórico\r\n",
        "tau = 250 / np.power(10,9)  #Adaptar al calculado en el Clase D\r\n",
        "\r\n",
        "  # Aprox. Padé orden 1\r\n",
        "dnum,dden = pade(tau,1)\r\n",
        "delay = tf(dnum,dden)\r\n",
        "print(\"Transferencia Delay {0}--> con tau = {1}\".format(delay,tau))\r\n",
        "#bode_delay = bode(delay) "
      ],
      "execution_count": null,
      "outputs": [
        {
          "output_type": "stream",
          "text": [
            "Transferencia Delay \n",
            "-s + 8e+06\n",
            "----------\n",
            "s + 8e+06\n",
            "--> con tau = 2.5e-07\n"
          ],
          "name": "stdout"
        }
      ]
    },
    {
      "cell_type": "code",
      "metadata": {
        "colab": {
          "base_uri": "https://localhost:8080/"
        },
        "id": "nYpPiNBWMWR8",
        "outputId": "74148994-d915-4a13-92ce-386231281bae"
      },
      "source": [
        "V_in = 60 # (12;60V)     # Tensión de alimentación -------------------------------\r\n",
        "V_ramp = 6 #Tensión de la triangular de entrada del PWM\r\n",
        "V_ref = V_ramp *0.9 # Tensión pico de la señal in desde la etapa de control (0.1;0.9).V_ramp\r\n",
        "V_out = V_in/2 # (1;50)  -------------------------------------------\r\n",
        "\r\n",
        "R_esr = 0.05 # Chequear si corresponde con el capacitor elegido\r\n",
        "\r\n",
        "RL = 27 # 27: Valor mínimo calculado. -----------------------------------------\r\n",
        "fo = 5000   # Frecuencia de corte del filtro LC\r\n",
        "#Lo = 1.2*10**(-3)\r\n",
        "#Co = 833*10**(-9)\r\n",
        "#wo = 1/np.sqrt(Lo*Co)\r\n",
        "#fo = wo/(2*np.pi)\r\n",
        "#Qo = wo*RL*Co\r\n",
        "\r\n",
        "wo = 2*np.pi*fo\r\n",
        "Qo = 1/np.sqrt(2) #Elijo el valor óptimo o 1.3 \r\n",
        "Lo = RL/(wo*Qo)\r\n",
        "Co = Qo/(RL*wo)\r\n",
        "\r\n",
        "\r\n",
        "f_esr = 1/(2*np.pi*R_esr*Co)\r\n",
        "print(\"fo = {0}, fc = {1},fs = {2} f_esr = {3}\".format(fo,fc,fs,f_esr))\r\n",
        "\r\n",
        "print(\"Lo = {0}mH, Co = {1}nF, RL = {2}, R_esr = {3}\".format(round(Lo*10**3,2),round(Co*10**9,2),round(RL,2),round(R_esr,2)))\r\n",
        "print(\"wo = {0}, Qo = {1}\".format(round(wo,2),round(Qo,2),round(fo,2)))\r\n"
      ],
      "execution_count": null,
      "outputs": [
        {
          "output_type": "stream",
          "text": [
            "fo = 5033.92809676676, fc = 33333.333333333336,fs = 200000 f_esr = 3821247.1330587114\n",
            "Lo = 1.2mH, Co = 833.0nF, RL = 27, R_esr = 0.05\n",
            "wo = 31629.1, Qo = 0.71\n"
          ],
          "name": "stdout"
        }
      ]
    },
    {
      "cell_type": "code",
      "metadata": {
        "colab": {
          "base_uri": "https://localhost:8080/",
          "height": 368
        },
        "id": "seD0rrC1Lqlb",
        "outputId": "bf2cd2c7-e81f-4633-c334-529c178d7df8"
      },
      "source": [
        "# Transferencia Entrada - Salida\r\n",
        "\r\n",
        "G_vd = V_in*(RL*(1+s*R_esr*Co))/(RL+s*(Lo+Co*R_esr*RL)+s**2*Lo*Co*(RL+R_esr))\r\n",
        "G = G_vd/V_ramp\r\n",
        "#bode_G = bode(G)\r\n",
        "bode_G_delay = bode(G*delay)\r\n",
        "print(G*delay)\r\n"
      ],
      "execution_count": null,
      "outputs": [
        {
          "output_type": "stream",
          "text": [
            "\n",
            "        -6.747e-05 s^2 - 1080 s + 1.296e+10\n",
            "---------------------------------------------------\n",
            "1.622e-07 s^3 + 1.305 s^2 + 5.782e+04 s + 1.296e+09\n",
            "\n"
          ],
          "name": "stdout"
        },
        {
          "output_type": "display_data",
          "data": {
            "image/png": "[encoded data removed]",
            "text/plain": [
              "<Figure size 432x288 with 2 Axes>"
            ]
          },
          "metadata": {
            "tags": [],
            "needs_background": "light"
          }
        }
      ]
    },
    {
      "cell_type": "code",
      "metadata": {
        "colab": {
          "base_uri": "https://localhost:8080/"
        },
        "id": "BbE9X5DSQL3h",
        "outputId": "0d144dc9-d09d-4a9d-c925-659e38a4b1db"
      },
      "source": [
        "#Diseño del compensador\r\n",
        "t = 70*np.pi/90\r\n",
        "\r\n",
        "f_p3 = fs/2\r\n",
        "f_z2 = fo*np.sqrt((1-np.sin(t))/(1+np.sin(t)))\r\n",
        "f_p2 = fo*np.sqrt((1+np.sin(t))/(1-np.sin(t)))\r\n",
        "f_z1 = f_z2/2\r\n",
        "print(\"f_z1 = {0}; f_z2 = {1}; f_p2 = {2}; f_p3 = {3}\\nf_esr = {4} \".format(round(f_z1,2), round(f_z2,2),round(f_p2,2),round(f_p3,2),round(f_esr,2)))\r\n",
        "\r\n",
        "\r\n",
        "#Calculo de los componentes a partir de las frecuencias obtenidas\r\n",
        "C_f3 = 2*10**(-9)\r\n",
        "R_f3 = 1/(2*np.pi*C_f3*f_p2)\r\n",
        "R_f1 = 1/(2*np.pi*C_f3*f_z2) - R_f3\r\n",
        "R_c1 = (2*np.pi*fc*Lo*Co*V_ramp)/(V_in*C_f3)\r\n",
        "R_f2 = R_f1*V_ref/(V_out-V_ref)\r\n",
        "\r\n",
        "C_c1 = 1/(2*np.pi*R_c1*f_z1)\r\n",
        "C_c2 = 1/(2*np.pi*R_c1*f_p3)\r\n",
        "\r\n",
        "\r\n",
        "print(\"C_c1 = {0}nF; C_c2 = {1}pF; C_f3 = {2}nF; \\nR_c1 = {3}; R_f1 = {4}; R_f2 = {5}; R_f3 = {6} \".format(round(C_c1*10**9,2), round(C_c2*10**12,2), round(C_f3*10**9,2),round(R_c1,2),round(R_f1,2), round(R_f2,2)\r\n",
        ",round(R_f3,2)))\r\n",
        "print(\"Se calcularon valores comerciales\")\r\n",
        "\r\n"
      ],
      "execution_count": null,
      "outputs": [
        {
          "output_type": "stream",
          "text": [
            "f_z1 = 1173.68; f_z2 = 2347.36; f_p2 = 10795.29; f_p3 = 100000.0\n",
            "f_esr = 3821247.13 \n",
            "C_c1 = 12.95nF; C_c2 = 152.04pF; C_f3 = 2.0nF; \n",
            "R_c1 = 10467.79; R_f1 = 26529.35; R_f2 = 5823.52; R_f3 = 7371.5 \n",
            "Se calcularon valores comerciales\n"
          ],
          "name": "stdout"
        }
      ]
    },
    {
      "cell_type": "code",
      "metadata": {
        "id": "XhOJI6yR4aiG"
      },
      "source": [
        "#Calculo de los componentes a partir de las frecuencias obtenidas\n",
        "\n",
        "#C_c1 = 12.95nF C_c2 = 152.04pF; C_f3 = 2000.0pF; \n",
        "#R_c1 = 10467.79; R_f1 = 26529.35; R_f2 = 5823.52; R_f3 = 7371.5\n",
        "\n",
        "#C_f3 = 2*10**(-9) \n",
        "#R_f3 = 1/(2*np.pi*C_f3*f_p2) # = 7371 ~ 7320\n",
        "#R_f1 = 1/(2*np.pi*C_f3*f_z2) - R_f3 # = 26529 ~ 26580 ~ 26700\n",
        "#R_c1 = (2*np.pi*fc*Lo*Co*V_ramp)/(V_in*C_f3) # = 10467 ~ 10467 ~ 10500\n",
        "#R_f2 = R_f1*V_ref/(V_out-V_ref) # = 5823 ~ 5860 ~ 5900\n",
        "\n",
        "#C_c1 = 1/(2*np.pi*R_c1*f_z1) # = 12.95nF ~ 12.91nF ~ 12nF\n",
        "#C_c2 = 1/(2*np.pi*R_c1*f_p3) # = 152.04pF ~ 151.58pF ~ 12nF\n",
        "\n",
        "#C_f3 = 2*10**(-9) \n",
        "#R_f3 = 7320\n",
        "#R_f1 = 26700\n",
        "#R_c1 = 10500\n",
        "#R_f2 = 5900\n",
        "\n",
        "#C_c1 = 12*10**(-9)\n",
        "#C_c2 = 12*10**(-9)"
      ],
      "execution_count": null,
      "outputs": []
    },
    {
      "cell_type": "code",
      "metadata": {
        "colab": {
          "base_uri": "https://localhost:8080/",
          "height": 368
        },
        "id": "XUQzZI0BOKWQ",
        "outputId": "ccc2b992-071b-4d6e-82b3-2d66be47f6f6"
      },
      "source": [
        "#Compensador por adelanto de fase\r\n",
        "G_c = ((1+s*R_c1*C_c1)*(1+s*(R_f1+R_f3)*C_f3))/(s*R_f1*(C_c1+C_c2)*(1+s*R_f3*C_f3)*(1+s*R_c1*(C_c1*C_c2)/(C_c1+C_c2)))\r\n",
        "print (G_c)\r\n",
        "bode_Gc = bode(G_c)\r\n",
        "#bode_Gc_delay = bode(G_c*delay)"
      ],
      "execution_count": null,
      "outputs": [
        {
          "output_type": "stream",
          "text": [
            "\n",
            "  1.205e-16 s^2 + 2.666e-12 s + 1.311e-08\n",
            "-------------------------------------------\n",
            "1.057e-22 s^3 + 7.435e-17 s^2 + 4.557e-12 s\n",
            "\n"
          ],
          "name": "stdout"
        },
        {
          "output_type": "display_data",
          "data": {
            "image/png": "[encoded data removed]",
            "text/plain": [
              "<Figure size 432x288 with 2 Axes>"
            ]
          },
          "metadata": {
            "tags": [],
            "needs_background": "light"
          }
        }
      ]
    },
    {
      "cell_type": "code",
      "metadata": {
        "colab": {
          "base_uri": "https://localhost:8080/",
          "height": 232
        },
        "id": "pwPj_5q3OAp-",
        "outputId": "56ddf771-9ffd-4000-dc59-af200549a6e0"
      },
      "source": [
        "#Ganancia de lazo\r\n",
        "k= (R_f1+R_f2)/R_f2\r\n",
        "#k= R_f2/(R_f1+R_f2)\r\n",
        "\r\n",
        "\r\n",
        "M = series(1/k,G_c,G)\r\n",
        "\r\n",
        "#bode_M = bode(M)\r\n",
        "bode_M_delay = bode(M*delay)\r\n",
        "print(M*delay)\r\n",
        "\r\n",
        "#gm, pm, wg, wp = margin(M)\r\n",
        "#fl = wp/(2*np.pi)\r\n",
        "#print(\"Margen de ganancia: {0} en w = {1}\".format(round(gm,3),round(wg,2)))\r\n",
        "#print(\"Margen de fase: {0} en w = {1}\".format(round(pm,3),round(wp,2)))\r\n",
        "\r\n",
        "gm, pm, wg, wp = margin(M*delay)\r\n",
        "fl = wp/(2*np.pi)\r\n",
        "print(\"Margen de ganancia: {0} en w = {1}\".format(round(gm,3),round(wg,2)))\r\n",
        "print(\"Margen de fase: {0} en w = {1}\".format(round(pm,3),round(wp,2)))"
      ],
      "execution_count": null,
      "outputs": [
        {
          "output_type": "error",
          "ename": "NameError",
          "evalue": "ignored",
          "traceback": [
            "\u001b[0;31m---------------------------------------------------------------------------\u001b[0m",
            "\u001b[0;31mNameError\u001b[0m                                 Traceback (most recent call last)",
            "\u001b[0;32m<ipython-input-1-e11f8300bfb9>\u001b[0m in \u001b[0;36m<module>\u001b[0;34m()\u001b[0m\n\u001b[1;32m      1\u001b[0m \u001b[0;31m#Ganancia de lazo\u001b[0m\u001b[0;34m\u001b[0m\u001b[0;34m\u001b[0m\u001b[0;34m\u001b[0m\u001b[0m\n\u001b[0;32m----> 2\u001b[0;31m \u001b[0mk\u001b[0m\u001b[0;34m=\u001b[0m \u001b[0;34m(\u001b[0m\u001b[0mR_f1\u001b[0m\u001b[0;34m+\u001b[0m\u001b[0mR_f2\u001b[0m\u001b[0;34m)\u001b[0m\u001b[0;34m/\u001b[0m\u001b[0mR_f2\u001b[0m\u001b[0;34m\u001b[0m\u001b[0;34m\u001b[0m\u001b[0m\n\u001b[0m\u001b[1;32m      3\u001b[0m \u001b[0;31m#k= R_f2/(R_f1+R_f2)\u001b[0m\u001b[0;34m\u001b[0m\u001b[0;34m\u001b[0m\u001b[0;34m\u001b[0m\u001b[0m\n\u001b[1;32m      4\u001b[0m \u001b[0;34m\u001b[0m\u001b[0m\n\u001b[1;32m      5\u001b[0m \u001b[0;34m\u001b[0m\u001b[0m\n",
            "\u001b[0;31mNameError\u001b[0m: name 'R_f1' is not defined"
          ]
        }
      ]
    }
  ]
}